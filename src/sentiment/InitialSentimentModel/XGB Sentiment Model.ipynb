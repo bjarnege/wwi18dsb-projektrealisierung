{
 "cells": [
  {
   "cell_type": "code",
   "execution_count": 16,
   "id": "1ca621c1",
   "metadata": {},
   "outputs": [],
   "source": [
    "import ast\n",
    "import spacy\n",
    "import pickle\n",
    "import numpy as np\n",
    "import pandas as pd\n",
    "from tqdm import tqdm\n",
    "from xgboost import XGBRegressor\n",
    "from sklearn import metrics\n",
    "from sklearn.metrics import confusion_matrix\n",
    "from sklearn.model_selection import GridSearchCV\n",
    "from sklearn.metrics import classification_report\n",
    "from sklearn.model_selection import train_test_split"
   ]
  },
  {
   "cell_type": "code",
   "execution_count": 6,
   "id": "dda2954a",
   "metadata": {},
   "outputs": [],
   "source": [
    "df_sentiment = pd.read_csv(\"VADER_labeled_data.csv\")\n",
    "df_sentiment[\"label\"] = df_sentiment[\"sentiment_compound\"]"
   ]
  },
  {
   "cell_type": "code",
   "execution_count": 8,
   "id": "f1c87b96",
   "metadata": {},
   "outputs": [
    {
     "data": {
      "text/plain": [
       "<AxesSubplot:ylabel='Density'>"
      ]
     },
     "execution_count": 8,
     "metadata": {},
     "output_type": "execute_result"
    },
    {
     "data": {
      "image/png": "[encoded data removed]",
      "text/plain": [
       "<Figure size 432x288 with 1 Axes>"
      ]
     },
     "metadata": {
      "needs_background": "light"
     },
     "output_type": "display_data"
    }
   ],
   "source": [
    "df_sentiment[\"label\"].plot(kind=\"kde\")"
   ]
  },
  {
   "cell_type": "code",
   "execution_count": 9,
   "id": "4d4e73fc",
   "metadata": {},
   "outputs": [
    {
     "name": "stderr",
     "output_type": "stream",
     "text": [
      "404362it [51:23, 131.13it/s]\n"
     ]
    }
   ],
   "source": [
    "# initialize spacy:\n",
    "nlp = spacy.load(\"en_core_web_sm\")\n",
    "\n",
    "# vectorize data:\n",
    "\n",
    "df_sentiment[\"doc\"] =  [doc for doc in tqdm(nlp.pipe(df_sentiment[\"comment\"], n_process=-1))]\n",
    "# exclude validation data:\n",
    "validation = df_sentiment.sample(int(df_sentiment.shape[0]*0.1))\n",
    "train_test_df = df_sentiment[~df_sentiment.index.isin(validation.index)]"
   ]
  },
  {
   "cell_type": "code",
   "execution_count": 10,
   "id": "a96b4d9b",
   "metadata": {},
   "outputs": [],
   "source": [
    "X = np.array([d.vector for d in train_test_df[\"doc\"]])\n",
    "y = train_test_df[\"label\"].values\n",
    "\n",
    "# Test Train Split:\n",
    "X_train, X_test, y_train, y_test = train_test_split(X, y, test_size=0.33, random_state=42)\n",
    "\n",
    "# Split validation data\n",
    "X_validation = np.array([d.vector for d in validation[\"doc\"]])\n",
    "y_validation = validation[\"label\"].values"
   ]
  },
  {
   "cell_type": "code",
   "execution_count": 11,
   "id": "9183db10",
   "metadata": {},
   "outputs": [
    {
     "name": "stdout",
     "output_type": "stream",
     "text": [
      "Fitting 3 folds for each of 1 candidates, totalling 3 fits\n"
     ]
    },
    {
     "data": {
      "text/plain": [
       "GridSearchCV(cv=3,\n",
       "             estimator=XGBRegressor(base_score=None, booster=None,\n",
       "                                    colsample_bylevel=None,\n",
       "                                    colsample_bynode=None,\n",
       "                                    colsample_bytree=None, gamma=None,\n",
       "                                    gpu_id=None, importance_type='gain',\n",
       "                                    interaction_constraints=None,\n",
       "                                    learning_rate=None, max_delta_step=None,\n",
       "                                    max_depth=None, min_child_weight=None,\n",
       "                                    missing=nan, monotone_constraints=None,\n",
       "                                    n_estimators=100, n_jobs=None,\n",
       "                                    num_parallel_tree=None, random_state=None,\n",
       "                                    reg_alpha=None, reg_lambda=None,\n",
       "                                    scale_pos_weight=None, subsample=None,\n",
       "                                    tree_method=None, validate_parameters=None,\n",
       "                                    verbosity=None),\n",
       "             n_jobs=-1,\n",
       "             param_grid={'gamma': [0.001], 'max_depth': [15],\n",
       "                         'min_child_weight': [0.3]},\n",
       "             verbose=3)"
      ]
     },
     "execution_count": 11,
     "metadata": {},
     "output_type": "execute_result"
    }
   ],
   "source": [
    "# Train and tune model:\n",
    "xgb = XGBRegressor()\n",
    "\n",
    "params = {\n",
    "        'min_child_weight': [0.3],\n",
    "        'gamma': [0.001],\n",
    "        'max_depth': [15],\n",
    "        }\n",
    "\n",
    "grid = GridSearchCV(estimator=xgb, param_grid=params, n_jobs=-1, verbose=3, cv=3)\n",
    "grid.fit(X_train, y_train)"
   ]
  },
  {
   "cell_type": "code",
   "execution_count": 13,
   "id": "3504ea8a",
   "metadata": {},
   "outputs": [
    {
     "data": {
      "text/plain": [
       "{'gamma': 0.001, 'max_depth': 15, 'min_child_weight': 0.3}"
      ]
     },
     "execution_count": 13,
     "metadata": {},
     "output_type": "execute_result"
    }
   ],
   "source": [
    "grid.best_params_"
   ]
  },
  {
   "cell_type": "code",
   "execution_count": 18,
   "id": "2dc40c83",
   "metadata": {},
   "outputs": [],
   "source": [
    "def regression_results(y_true, y_pred):\n",
    "\n",
    "    # Regression metrics\n",
    "    explained_variance=metrics.explained_variance_score(y_true, y_pred)\n",
    "    mean_absolute_error=metrics.mean_absolute_error(y_true, y_pred) \n",
    "    mse=metrics.mean_squared_error(y_true, y_pred) \n",
    "#    mean_squared_log_error=metrics.mean_squared_log_error(y_true, y_pred)\n",
    "    median_absolute_error=metrics.median_absolute_error(y_true, y_pred)\n",
    "    r2=metrics.r2_score(y_true, y_pred)\n",
    "\n",
    "    print('explained_variance: ', round(explained_variance,4))    \n",
    "#   print('mean_squared_log_error: ', round(mean_squared_log_error,4))\n",
    "    print('r2: ', round(r2,4))\n",
    "    print('MAE: ', round(mean_absolute_error,4))\n",
    "    print('MSE: ', round(mse,4))\n",
    "    print('RMSE: ', round(np.sqrt(mse),4))"
   ]
  },
  {
   "cell_type": "code",
   "execution_count": 19,
   "id": "ac8ca3e7",
   "metadata": {},
   "outputs": [
    {
     "name": "stdout",
     "output_type": "stream",
     "text": [
      "explained_variance:  0.1679\n",
      "r2:  0.1679\n",
      "MAE:  0.3687\n",
      "MSE:  0.256\n",
      "RMSE:  0.506\n"
     ]
    }
   ],
   "source": [
    "XGB_best = XGBRegressor(**grid.best_params_)\n",
    "XGB_best.fit(X_train, y_train)\n",
    "y_pred = XGB_best.predict(X_test)\n",
    "\n",
    "regression_results(y_test, y_pred)"
   ]
  },
  {
   "cell_type": "code",
   "execution_count": null,
   "id": "f826f3b0",
   "metadata": {},
   "outputs": [],
   "source": [
    "XGB_final = XGBRegressor(**grid.best_params_)\n",
    "XGB_final.fit(X, y)\n",
    "y_pred = XGB_final.predict(X_validation)\n",
    "\n",
    "regression_results(y_validation, y_pred)"
   ]
  },
  {
   "cell_type": "code",
   "execution_count": 18,
   "id": "fa09edb7",
   "metadata": {},
   "outputs": [
    {
     "name": "stderr",
     "output_type": "stream",
     "text": [
      "C:\\Users\\bjarn\\anaconda3\\lib\\site-packages\\xgboost\\sklearn.py:1146: UserWarning: The use of label encoder in XGBClassifier is deprecated and will be removed in a future release. To remove this warning, do the following: 1) Pass option use_label_encoder=False when constructing XGBClassifier object; and 2) Encode your labels (y) as integers starting with 0, i.e. 0, 1, 2, ..., [num_class - 1].\n",
      "  warnings.warn(label_encoder_deprecation_msg, UserWarning)\n"
     ]
    },
    {
     "name": "stdout",
     "output_type": "stream",
     "text": [
      "[06:09:11] WARNING: C:/Users/Administrator/workspace/xgboost-win64_release_1.4.0/src/learner.cc:1095: Starting in XGBoost 1.3.0, the default evaluation metric used with the objective 'multi:softprob' was changed from 'merror' to 'mlogloss'. Explicitly set eval_metric if you'd like to restore the old behavior.\n"
     ]
    }
   ],
   "source": [
    "# train and persist model\n",
    "X_full = np.array([d.vector for d in df_sentiment[\"doc\"]])\n",
    "y_full = df_sentiment[\"label\"].values\n",
    "xgb = XGBRegressor(**grid.best_params_)\n",
    "xgb.fit(X_full,y_full)\n",
    "\n",
    "pickle.dump(xgb, open(\"../resource/models/sentiment_model.pkl\", \"wb\"))\n"
   ]
  }
 ],
 "metadata": {
  "kernelspec": {
   "display_name": "Python 3",
   "language": "python",
   "name": "python3"
  },
  "language_info": {
   "codemirror_mode": {
    "name": "ipython",
    "version": 3
   },
   "file_extension": ".py",
   "mimetype": "text/x-python",
   "name": "python",
   "nbconvert_exporter": "python",
   "pygments_lexer": "ipython3",
   "version": "3.8.5"
  }
 },
 "nbformat": 4,
 "nbformat_minor": 5
}
